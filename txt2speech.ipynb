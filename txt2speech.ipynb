{
 "cells": [
  {
   "cell_type": "code",
   "execution_count": 2,
   "metadata": {},
   "outputs": [],
   "source": [
    "from ibm_watson import SpeechToTextV1\n",
    "from ibm_cloud_sdk_core.authenticators import IAMAuthenticator\n",
    "\n",
    "api='qpombChgxcJkXTbFEKh-ulPDGesRGQ2G_nTVOBSEYnz7'\n",
    "url='https://api.eu-gb.speech-to-text.watson.cloud.ibm.com/instances/4f149214-b1dd-44b6-9174-6e60504ae6fc'\n",
    "\n",
    "api=IAMAuthenticator(api)\n",
    "s2t=SpeechToTextV1(authenticator=api)\n",
    "s2t.set_service_url(url)\n",
    "\n",
    "\n",
    "with open('speech.mp3','rb') as f:\n",
    "    res=s2t.recognize(audio=f,content_type='audio/mp3',model='en-US_NarrowbandModel',continous=True).get_result()\n",
    "\n",
    "text=res['results'][0]['alternatives'][0]['transcript']\n",
    "with open('output.txt','w') as out:\n",
    "    out.writelines(text)"
   ]
  },
  {
   "cell_type": "code",
   "execution_count": null,
   "metadata": {},
   "outputs": [],
   "source": []
  },
  {
   "cell_type": "code",
   "execution_count": null,
   "metadata": {},
   "outputs": [],
   "source": []
  },
  {
   "cell_type": "code",
   "execution_count": null,
   "metadata": {},
   "outputs": [],
   "source": []
  },
  {
   "cell_type": "code",
   "execution_count": null,
   "metadata": {},
   "outputs": [],
   "source": []
  }
 ],
 "metadata": {
  "kernelspec": {
   "display_name": "Python 3",
   "language": "python",
   "name": "python3"
  },
  "language_info": {
   "codemirror_mode": {
    "name": "ipython",
    "version": 3
   },
   "file_extension": ".py",
   "mimetype": "text/x-python",
   "name": "python",
   "nbconvert_exporter": "python",
   "pygments_lexer": "ipython3",
   "version": "3.7.4"
  }
 },
 "nbformat": 4,
 "nbformat_minor": 4
}
